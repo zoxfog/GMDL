{
 "cells": [
  {
   "cell_type": "markdown",
   "id": "643cd3a5",
   "metadata": {},
   "source": [
    "### HW1"
   ]
  },
  {
   "cell_type": "code",
   "execution_count": 20,
   "id": "c5cef3ca",
   "metadata": {},
   "outputs": [],
   "source": [
    "import numpy as np\n",
    "import scipy.io as sio\n",
    "import matplotlib.pyplot as plt\n",
    "import scipy"
   ]
  },
  {
   "cell_type": "code",
   "execution_count": 21,
   "id": "d2aa02b4",
   "metadata": {},
   "outputs": [],
   "source": [
    "\n",
    "def data_loader(file_name):\n",
    "    mat = scipy.io.loadmat(file_name)\n",
    "    Xtrain = mat.get('Yt')\n",
    "    # for the bias\n",
    "    Xtrain = np.vstack([Xtrain, np.ones(Xtrain.shape[1])]) \n",
    "    Ytrain = mat.get('Ct').T\n",
    "    Xtest = mat.get('Yv')\n",
    "    Xtest = np.vstack([Xtest, np.ones(Xtest.shape[1])])\n",
    "    Ytest = mat.get('Cv').T\n",
    "    return Xtrain, Ytrain, Xtest, Ytest\n",
    "\n",
    "datasets = [\"GMMData\",\"PeaksData\",\"SwissRollData\"]\n",
    "Xtrain, Ytrain, Xtest, Ytest = data_loader(datasets[0])"
   ]
  },
  {
   "cell_type": "markdown",
   "id": "c6075621",
   "metadata": {},
   "source": [
    "# Solutions"
   ]
  },
  {
   "cell_type": "markdown",
   "id": "fafcc660",
   "metadata": {},
   "source": [
    "## Part I\n",
    "### 1.\n",
    "\n",
    "In this block we implemented the softmax, the softmax loss and the softmax gradient.\\\n",
    "The parameters:\n",
    "\n",
    "X - train data of shape (features, observations)\\\n",
    "w - weights dataset of shape (features, labels)\\\n",
    "C - the label data of shape (observations, labels)\\\n",
    "eta - softmax stablizier"
   ]
  },
  {
   "cell_type": "code",
   "execution_count": 22,
   "id": "25034233",
   "metadata": {},
   "outputs": [],
   "source": [
    "def softmax(X, w, eta = True):\n",
    "    product_Xw = X.T @ w\n",
    "    if eta==True:\n",
    "        exp = np.exp(product_Xw - np.max(product_Xw ))\n",
    "    else:\n",
    "        exp = np.exp(product_Xw )\n",
    "    div = np.divide(exp, np.sum(exp, axis = 1).reshape(-1,1))\n",
    "    print('softmax '+str(div.shape))\n",
    "    return div\n",
    "\n",
    "def softmax_loss(X, C, w, eta = True):\n",
    "    sm = softmax(X, w, eta = eta)\n",
    "    log  = np.log(sm)\n",
    "    m = len(X[0])\n",
    "    return -np.sum(C*log)/m  \n",
    "\n",
    "def softmax_gradient(X, C, w, eta = True):\n",
    "    print(C.shape)\n",
    "    sm= softmax(X, w, eta = eta)\n",
    "    m = len(X[0])\n",
    "    gradient = (1/m)*X @ (sm - C)\n",
    "    print('gradient1'+str(gradient.shape))\n",
    "    return gradient"
   ]
  },
  {
   "cell_type": "markdown",
   "id": "146ca341",
   "metadata": {},
   "source": [
    "Here we check the correctness of the code written above with a gradinet test technique."
   ]
  },
  {
   "cell_type": "code",
   "execution_count": 25,
   "id": "a3e0959d",
   "metadata": {},
   "outputs": [],
   "source": [
    "\n",
    "def gradient_test(X,C):\n",
    "    # number of dimensions (features)\n",
    "    n = X.shape[0]\n",
    "    # number of labels\n",
    "    l = C.shape[1]\n",
    "    \n",
    "    d = np.random.rand(n,l)\n",
    "    d = d/np.linalg.norm(d,ord = 1, axis = 0)\n",
    "    w = np.random.randn(n,l)\n",
    "    \n",
    "    loss = softmax_loss(X, C, w, eta = True)\n",
    "    grad = softmax_gradient(X, C, w, eta = True)\n",
    "    \n",
    "    comp1 = []\n",
    "    comp2 = []\n",
    "    eps_list = []\n",
    "    \n",
    "    eps = 0.5\n",
    "    for i in range(20):\n",
    "        \n",
    "        loss_d = softmax_loss(X, C, w+eps*d, eta = True)\n",
    "        comp1.append(abs(loss_d  - loss ) )\n",
    "        comp2.append(abs(loss_d  - loss - ((eps*d.ravel() @ grad.ravel()))))\n",
    "        eps_list.append(eps)\n",
    "        eps = 0.5*eps\n",
    "\n",
    "    plt.plot(comp1,color = 'r')\n",
    "    plt.plot(comp2, color = 'g')\n",
    "    plt.legend([\"without gradients \", \"with gradients \"])\n",
    "    plt.xlabel('eps')\n",
    "    plt.ylabel('output value')\n",
    " #   plt.xticks( range(len(eps_list)),eps_list,rotation = 45)\n",
    "    plt.yscale('log')\n",
    "    plt.show()"
   ]
  },
  {
   "cell_type": "code",
   "execution_count": 26,
   "id": "a425bc60",
   "metadata": {},
   "outputs": [],
   "source": [
    "def gradient_test(X,C):\n",
    "    # number of dimensions (features)\n",
    "    n = X.shape[0]\n",
    "    # number of labels\n",
    "    l = C.shape[1]\n",
    "\n",
    "    \n",
    "    d = np.random.rand(n,l)\n",
    "    d = d/np.linalg.norm(d,ord = 1, axis = 0)\n",
    "    w = np.random.rand(n,l)\n",
    "    \n",
    "    loss = softmax_loss(X, C, w, eta = True)\n",
    "    grad = softmax_gradient(X, C, w, eta = True)\n",
    "    \n",
    "    comp1 = []\n",
    "    comp2 = []\n",
    "    eps_list = []\n",
    "    \n",
    "    eps = 0.5\n",
    "    test_range = list(range(20))\n",
    "    for i in test_range:\n",
    "        loss_d = softmax_loss(X, C, w + eps*d , eta = True)\n",
    "        comp1.append(abs(loss_d  - loss ) )\n",
    "        comp2.append(abs(loss_d  - loss - (d * eps).ravel() @ grad.ravel()))\n",
    "        eps_list.append(eps)\n",
    "        eps *= 0.5\n",
    "\n",
    "    plt.plot(test_range,comp1,color = 'r')\n",
    "    plt.plot(test_range,comp2, color = 'g')\n",
    "    plt.legend([\"without gradients \", \"with gradients \"])\n",
    "    plt.xlabel('eps')\n",
    "    plt.ylabel('output value')\n",
    "    plt.yscale('log')\n",
    "    plt.xticks( range(len(eps_list)),eps_list,rotation = 45)\n",
    "    plt.show()"
   ]
  },
  {
   "cell_type": "code",
   "execution_count": 27,
   "id": "bafb27a8",
   "metadata": {
    "scrolled": false
   },
   "outputs": [
    {
     "name": "stdout",
     "output_type": "stream",
     "text": [
      "softmax (25000, 5)\n",
      "(25000, 5)\n",
      "softmax (25000, 5)\n",
      "gradient1(6, 5)\n",
      "softmax (25000, 5)\n",
      "softmax (25000, 5)\n",
      "softmax (25000, 5)\n",
      "softmax (25000, 5)\n",
      "softmax (25000, 5)\n",
      "softmax (25000, 5)\n",
      "softmax (25000, 5)\n",
      "softmax (25000, 5)\n",
      "softmax (25000, 5)\n",
      "softmax (25000, 5)\n",
      "softmax (25000, 5)\n",
      "softmax (25000, 5)\n",
      "softmax (25000, 5)\n",
      "softmax (25000, 5)\n",
      "softmax (25000, 5)\n",
      "softmax (25000, 5)\n",
      "softmax (25000, 5)\n",
      "softmax (25000, 5)\n",
      "softmax (25000, 5)\n",
      "softmax (25000, 5)\n"
     ]
    },
    {
     "data": {
      "image/png": "[encoded data removed]",
      "text/plain": [
       "<Figure size 432x288 with 1 Axes>"
      ]
     },
     "metadata": {
      "needs_background": "light"
     },
     "output_type": "display_data"
    }
   ],
   "source": [
    "gradient_test(Xtrain ,Ytrain)"
   ]
  },
  {
   "cell_type": "code",
   "execution_count": null,
   "id": "592a674f",
   "metadata": {},
   "outputs": [],
   "source": [
    "Ytrain.shape"
   ]
  }
 ],
 "metadata": {
  "kernelspec": {
   "display_name": "Python 3 (ipykernel)",
   "language": "python",
   "name": "python3"
  },
  "language_info": {
   "codemirror_mode": {
    "name": "ipython",
    "version": 3
   },
   "file_extension": ".py",
   "mimetype": "text/x-python",
   "name": "python",
   "nbconvert_exporter": "python",
   "pygments_lexer": "ipython3",
   "version": "3.9.12"
  }
 },
 "nbformat": 4,
 "nbformat_minor": 5
}
