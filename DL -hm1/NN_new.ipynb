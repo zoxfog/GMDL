{
 "cells": [
  {
   "cell_type": "code",
   "execution_count": 1,
   "id": "d93c8021-9fe1-4c72-a32d-8ecdf029ff76",
   "metadata": {},
   "outputs": [],
   "source": [
    "import numpy as np\n",
    "np.random.seed(0)"
   ]
  },
  {
   "cell_type": "code",
   "execution_count": 2,
   "id": "5316a7d3-a9f3-4402-914f-8047c9636568",
   "metadata": {},
   "outputs": [],
   "source": [
    "import scipy.io as sio\n",
    "import matplotlib.pyplot as plt\n",
    "import scipy\n",
    "from tqdm.notebook import tqdm"
   ]
  },
  {
   "cell_type": "code",
   "execution_count": 3,
   "id": "f5046440-be8b-4e94-bc3e-2d4f17589b9e",
   "metadata": {
    "scrolled": true
   },
   "outputs": [],
   "source": [
    "class Layer:\n",
    "    def __init__(self,input_dim,output_dim):\n",
    "        self.input_dim = input_dim\n",
    "        self.output_dim = output_dim\n",
    "        self.W = 0.10 * np.random.randn(output_dim,input_dim)\n",
    "        self.X = None\n",
    "    def forward(self,input):\n",
    "        pass\n",
    "    def backward(self,output_grad,lr):\n",
    "        pass\n",
    "    \n",
    "class HiddenLayer(Layer):\n",
    "    def __init__(self,input_dim,output_dim,activation):\n",
    "        super().__init__(input_dim,output_dim)\n",
    "        self.b = np.random.randn(output_dim,1)\n",
    "        self.activation = activation\n",
    "                \n",
    "    def forward(self,X,  training = True):\n",
    "        # save x only if learning\n",
    "        if training:\n",
    "            self.X = X\n",
    "       # print('X'+str(X.shape))\n",
    "        #print('W'+str(self.W.shape))\n",
    "        #print('b'+str(self.b.shape))\n",
    "        z = self.W @ X + self.b\n",
    "        # send to activation function\n",
    "        out = self.activation.forward(z)\n",
    "        return out\n",
    "    \n",
    "    def backward(self,v,lr):\n",
    "        in_grad_W, in_grad_X, in_grad_b = self.activation.backward( v,self.X,self.W,self.b)\n",
    "        self.W -= lr*grad_W\n",
    "       # print('b'+str(self.b.shape))\n",
    "       # print('grad_b'+str(grad_b.shape))\n",
    "        self.b -= lr*grad_b\n",
    "        v = grad_X\n",
    "        return v \n",
    "\n",
    "class OutputLayer(Layer):\n",
    "    def __init__(self,input_dim,output_dim,loss_f):\n",
    "        super().__init__(input_dim,output_dim)\n",
    "        self.loss_f = loss_f\n",
    "\n",
    "                \n",
    "    def forward(self,X, training = True):\n",
    "        if training:\n",
    "            self.X = X\n",
    "        out = self.loss_f.forward(X,self.W)\n",
    "        return out\n",
    "    \n",
    "    \n",
    "    def backward(self,C,lr):\n",
    "        grad_W, grad_X = self.loss_f.backward(self.X,self.W,C)\n",
    "       # print(\"W\"+ str(self.W.shape))\n",
    "       # print(\"grad_W\"+ str(grad_W.shape))\n",
    "        self.W -= lr*grad_W.T\n",
    "        v = grad_X\n",
    "        return v \n",
    "\n",
    "    def get_loss(self,X,C):\n",
    "      #  print(self.loss_f.calc_loss(self.X, C)  )\n",
    "        return self.loss_f.calc_loss(X, C)    \n"
   ]
  },
  {
   "cell_type": "code",
   "execution_count": null,
   "id": "6de63cbc",
   "metadata": {},
   "outputs": [],
   "source": [
    "class ResNetLayer(HiddenLayer):\n",
    "    def __init__(self,dim ,activation):\n",
    "        super().__init__(dim,dim,activation)\n",
    "        self.activation = activation\n",
    "        self.W2 = 0.10 * np.random.randn(dim,dim)\n",
    "        \n",
    "                \n",
    "    def forward(self,X,  training = True):\n",
    "        z = super().forward(X,  training )\n",
    "        out = X + self.W2 @ z\n",
    "        return out\n",
    "    \n",
    "    def backward(self,v,lr):\n",
    "        grad_W,grad_X,grad_b = self.activation.backward( v,self.X,self.W,self.b)\n",
    "        self.W -= lr*grad_W\n",
    "       # print('b'+str(self.b.shape))\n",
    "       # print('grad_b'+str(grad_b.shape))\n",
    "        self.b -= lr*grad_b\n",
    "        v = grad_X"
   ]
  },
  {
   "cell_type": "code",
   "execution_count": 71,
   "id": "27a8e132",
   "metadata": {
    "scrolled": true
   },
   "outputs": [
    {
     "data": {
      "text/plain": [
       "array([[0.11111111, 0.        , 0.        , 0.        , 0.        ],\n",
       "       [0.        , 0.11111111, 0.        , 0.        , 0.        ],\n",
       "       [0.        , 0.        , 0.11111111, 0.        , 0.        ],\n",
       "       [0.        , 0.        , 0.        , 0.11111111, 0.        ],\n",
       "       [0.        , 0.        , 0.        , 0.        , 0.11111111]])"
      ]
     },
     "execution_count": 71,
     "metadata": {},
     "output_type": "execute_result"
    }
   ],
   "source": [
    "np.divide(np.eye(5),8+np.ones((5,5)))"
   ]
  },
  {
   "cell_type": "code",
   "execution_count": 84,
   "id": "d78b23bd",
   "metadata": {},
   "outputs": [],
   "source": [
    "c = np.random.randn(5,5)"
   ]
  },
  {
   "cell_type": "code",
   "execution_count": 86,
   "id": "fc1fe356",
   "metadata": {},
   "outputs": [
    {
     "data": {
      "text/plain": [
       "array([[  7.36731401,   7.36731401,   7.36731401,   7.36731401,\n",
       "          7.36731401],\n",
       "       [-13.39617921, -13.39617921, -13.39617921, -13.39617921,\n",
       "        -13.39617921],\n",
       "       [-13.04549842, -13.04549842, -13.04549842, -13.04549842,\n",
       "        -13.04549842],\n",
       "       [ -4.97358729,  -4.97358729,  -4.97358729,  -4.97358729,\n",
       "         -4.97358729],\n",
       "       [-12.04999196, -12.04999196, -12.04999196, -12.04999196,\n",
       "        -12.04999196]])"
      ]
     },
     "execution_count": 86,
     "metadata": {},
     "output_type": "execute_result"
    }
   ],
   "source": [
    "\n",
    "a = np.ones((5,5))*3 * c\n",
    "b = np.ones((5,5))*2\n",
    "a @ b"
   ]
  },
  {
   "cell_type": "code",
   "execution_count": 87,
   "id": "0741ecc1",
   "metadata": {},
   "outputs": [
    {
     "data": {
      "text/plain": [
       "array([[-20.293109  , -22.39457944, -16.36441871,  24.18299086,\n",
       "         -1.22882658],\n",
       "       [-20.293109  , -22.39457944, -16.36441871,  24.18299086,\n",
       "         -1.22882658],\n",
       "       [-20.293109  , -22.39457944, -16.36441871,  24.18299086,\n",
       "         -1.22882658],\n",
       "       [-20.293109  , -22.39457944, -16.36441871,  24.18299086,\n",
       "         -1.22882658],\n",
       "       [-20.293109  , -22.39457944, -16.36441871,  24.18299086,\n",
       "         -1.22882658]])"
      ]
     },
     "execution_count": 87,
     "metadata": {},
     "output_type": "execute_result"
    }
   ],
   "source": [
    "a = np.ones((5,5))*3 \n",
    "b = np.ones((5,5))*2 * c\n",
    "a @ b"
   ]
  },
  {
   "cell_type": "code",
   "execution_count": 83,
   "id": "f9bae009",
   "metadata": {},
   "outputs": [
    {
     "data": {
      "text/plain": [
       "array([[-0.09002106, -0.71791731, -0.05212406,  0.96184108,  1.51160395],\n",
       "       [ 0.79921726,  1.285745  , -1.19901605, -1.34365708,  0.09816774],\n",
       "       [ 1.54156024,  0.36944916,  1.01030383, -0.0825162 , -0.68882103],\n",
       "       [ 1.491447  , -0.68155992,  0.4116795 ,  1.12577797, -0.22849607],\n",
       "       [ 1.21895662, -0.27045625,  0.43866853, -1.29219614, -0.42082524]])"
      ]
     },
     "execution_count": 83,
     "metadata": {},
     "output_type": "execute_result"
    }
   ],
   "source": [
    "np.random.randn(5,5)"
   ]
  },
  {
   "cell_type": "code",
   "execution_count": 64,
   "id": "d2e62d30",
   "metadata": {},
   "outputs": [],
   "source": [
    "class a:\n",
    "    def __init__(self):\n",
    "        self.a = 2\n",
    "        \n",
    "    def f(self,s):\n",
    "        print(self.a)\n",
    "        \n",
    "class b(a):\n",
    "    def __init__(self):\n",
    "        super().__init__()\n",
    "        self.b = 9\n",
    "        \n",
    "    def f(self,s,s2):\n",
    "        super().f(s)\n",
    "        print(self.b)\n",
    "        \n",
    "        \n",
    "aa = b() "
   ]
  },
  {
   "cell_type": "code",
   "execution_count": 65,
   "id": "4c1e71f8",
   "metadata": {},
   "outputs": [
    {
     "name": "stdout",
     "output_type": "stream",
     "text": [
      "2\n",
      "9\n"
     ]
    }
   ],
   "source": [
    "aa.f(1,1)"
   ]
  },
  {
   "cell_type": "code",
   "execution_count": 4,
   "id": "12e004ba",
   "metadata": {},
   "outputs": [],
   "source": [
    "class Activation:\n",
    "    def __init__(self,activation,activation_prime):\n",
    "        self.activation = activation\n",
    "        self.activation_prime = activation_prime\n",
    "        self.z = None\n",
    "        \n",
    "    def forward(self,z):\n",
    "        self.z = z        \n",
    "      #  print('tanh'+str(self.activation(self.z).shape))\n",
    "        return self.activation(self.z)\n",
    "    \n",
    "    def backward(self, v,X,W,b):\n",
    "       # print(\"self.activation_prime(self.z)\" + str(self.activation_prime(self.z).shape))\n",
    "       # print(\"v\" + str(v.shape))\n",
    "        grad = np.multiply(self.activation_prime(self.z),v)\n",
    "        grad_b = np.sum(grad,axis = 1).reshape(-1,1)\n",
    "        grad_X = W.T @ grad\n",
    "        grad_W = grad @ X.T\n",
    "     #   print(\"grad_b\" + str(grad_b.shape))\n",
    "     #   print(\"grad_X\" + str(grad_X.shape))\n",
    "     #   print(\"grad_W\" + str(grad_W.shape))\n",
    "        return grad_W,grad_X,grad_b\n",
    "    \n",
    "class Tanh(Activation):\n",
    "    def __init__(self):\n",
    "        tanh = lambda x: np.tanh(x)\n",
    "        tanh_prime = lambda x:1-np.tanh(x)**2\n",
    "        super().__init__(tanh,tanh_prime)"
   ]
  },
  {
   "cell_type": "code",
   "execution_count": 5,
   "id": "48e24598",
   "metadata": {},
   "outputs": [],
   "source": [
    "class Softmax:\n",
    "    def __init__(self):\n",
    "      #  self.X = None \n",
    "       # self.w = None  \n",
    "        self.out = None\n",
    "        \n",
    "    def forward(self,X,W):\n",
    "        product_Xw = X.T @ W.T\n",
    "        exp = np.exp(product_Xw - np.max(product_Xw ))\n",
    "        div = np.divide(exp, np.sum(exp, axis = 1).reshape(-1,1))\n",
    "        self.out = div \n",
    "        return self.out\n",
    "        \n",
    "    def calc_loss(self,X, C):\n",
    "        #cross entrophy loss\n",
    "        log  = np.log(self.out)\n",
    "        m = len(X[0])\n",
    "        return -np.sum(C*log)/m  \n",
    "    \n",
    "    def backward(self,X,W, C):\n",
    "        m = len(X[0])\n",
    "       # print('softmax-out '+ str((self.out).shape))\n",
    "       # print('C'+ str((C).shape))\n",
    "        sub =  self.out - C\n",
    "        grad_W  = (1/m)*(X @ sub)\n",
    "        grad_X  = (1/m)*(W.T @ sub.T)\n",
    "        return  grad_W, grad_X\n",
    "\n"
   ]
  },
  {
   "cell_type": "code",
   "execution_count": 6,
   "id": "4be817f9-b91e-463e-b3b5-318a85d9c69c",
   "metadata": {},
   "outputs": [],
   "source": [
    "class Net:\n",
    "    def __init__(self,layers,lr=0.01):\n",
    "        self.lr = lr\n",
    "        self.layers = layers\n",
    "        self.loss = 0\n",
    "    \n",
    "    def forward(self,X,C = None, training = True, update_loss = True):\n",
    "        '''\n",
    "        forward pass of the network\n",
    "        '''\n",
    "        output = X\n",
    "        for layer in self.layers:\n",
    "            output = layer.forward(output, training)\n",
    "         \n",
    "        if update_loss:\n",
    "            batch_loss = self.layers[-1].get_loss(output, C)\n",
    "            self.loss += batch_loss\n",
    "        return output\n",
    "    \n",
    "\n",
    "    def backward(self,C):\n",
    "        '''\n",
    "        backward pass through the network + updating params\n",
    "        '''\n",
    "        \n",
    "        v = self.layers[-1].backward(C,self.lr)\n",
    "        \n",
    "        for layer in np.flip(self.layers[:-1]):\n",
    "          #  print('v' + str(v.shape))\n",
    "            v = layer.backward(v, self.lr)\n",
    "            \n",
    "    def predict(self,X):\n",
    "        prob = self.forward(X,training = False, update_loss = False)\n",
    "        output = (prob == prob.max(axis=1)[:,None]).astype(int)\n",
    "        return output\n"
   ]
  },
  {
   "cell_type": "code",
   "execution_count": 7,
   "id": "a08af97b",
   "metadata": {},
   "outputs": [],
   "source": [
    "def accuracy(pred, true):\n",
    "    div = np.divide(pred + true,2).astype(int)\n",
    "    output = np.sum(div)/len(div)\n",
    "    return output"
   ]
  },
  {
   "cell_type": "code",
   "execution_count": 8,
   "id": "2c3be57a-05ef-4c90-a6ec-73e4f283dca9",
   "metadata": {},
   "outputs": [],
   "source": [
    "def data_loader(file_name):\n",
    "    mat = scipy.io.loadmat(file_name)\n",
    "    Xtrain = mat.get('Yt')\n",
    "    # for the bias\n",
    "    Xtrain = np.vstack([Xtrain, np.ones(Xtrain.shape[1])]) \n",
    "    Ytrain = mat.get('Ct')\n",
    "    Xtest = mat.get('Yv')\n",
    "    Xtest = np.vstack([Xtest, np.ones(Xtest.shape[1])])\n",
    "    Ytest = mat.get('Cv')\n",
    "    return Xtrain, Ytrain, Xtest, Ytest\n",
    "\n",
    "datasets = [\"GMMData\",\"PeaksData\",\"SwissRollData\"]\n",
    "\n",
    "\n",
    "Xtrain, Ytrain, Xtest, Ytest = data_loader(datasets[0])\n",
    "feature_num,examples_num = Xtrain.shape\n",
    "labels_num = Ytrain.shape[1]\n",
    "\n",
    "train_acc=[]\n",
    "test_acc=[]\n",
    "train_loss = []"
   ]
  },
  {
   "cell_type": "code",
   "execution_count": null,
   "id": "ae371f5d",
   "metadata": {},
   "outputs": [],
   "source": []
  },
  {
   "cell_type": "code",
   "execution_count": null,
   "id": "fa17e7d8",
   "metadata": {},
   "outputs": [],
   "source": []
  },
  {
   "cell_type": "code",
   "execution_count": 9,
   "id": "589ad28b-d5e6-42ea-8a2b-bf112d711c3d",
   "metadata": {},
   "outputs": [],
   "source": [
    "epocs = 250\n",
    "lr = 0.5\n",
    "batch_size = 64\n",
    "input_dim = feature_num\n",
    "output_dim = labels_num\n",
    "hidden_dim = 6 # number of neurons at each layer (fixed for all layers)"
   ]
  },
  {
   "cell_type": "code",
   "execution_count": 10,
   "id": "50f79c85",
   "metadata": {},
   "outputs": [],
   "source": [
    "nn = Net(layers = [HiddenLayer(feature_num, hidden_dim, Tanh()),\n",
    "                   HiddenLayer(hidden_dim, hidden_dim, Tanh()),\n",
    "                   HiddenLayer(hidden_dim, hidden_dim, Tanh()),\n",
    "                   OutputLayer(hidden_dim, output_dim, Softmax())]\n",
    "                , lr = lr)"
   ]
  },
  {
   "cell_type": "code",
   "execution_count": 11,
   "id": "3d38b762-8b44-4175-9fed-bf65df73a86f",
   "metadata": {
    "scrolled": true
   },
   "outputs": [
    {
     "data": {
      "application/vnd.jupyter.widget-view+json": {
       "model_id": "b360410f3da140259217930f5edb3e09",
       "version_major": 2,
       "version_minor": 0
      },
      "text/plain": [
       "  0%|          | 0/250 [00:00<?, ?it/s]"
      ]
     },
     "metadata": {},
     "output_type": "display_data"
    },
    {
     "name": "stdout",
     "output_type": "stream",
     "text": [
      "Wall time: 7.56 s\n"
     ]
    }
   ],
   "source": [
    "%%time\n",
    "\n",
    "nn = Net(layers = [HiddenLayer(6,6,Tanh()),\n",
    "                   HiddenLayer(6,6,Tanh()),\n",
    "                   HiddenLayer(6,6,Tanh()),\n",
    "                   OutputLayer(6,5,Softmax())]\n",
    "                , lr = lr)\n",
    "\n",
    "\n",
    "# Train loop\n",
    "a_t = []\n",
    "a_v = []\n",
    "train_accuracy =[]\n",
    "val_accuracy =[]\n",
    "training_loss = []\n",
    "val_loss =[]\n",
    "for epoc in tqdm(range(epocs)):\n",
    "    # Shuffle train data\n",
    "    indices = np.arange(examples_num)\n",
    "    np.random.shuffle(indices)\n",
    "    Xtrain = Xtrain[:,indices]\n",
    "    Ytrain = Ytrain[:,indices]\n",
    "    i = 0\n",
    "    nn.loss = 0\n",
    "    while i * batch_size < examples_num:\n",
    "        # Obtain minibatch\n",
    "        batch_start = i * batch_size\n",
    "        batch_end = min((i + 1) * batch_size, examples_num)\n",
    "        \n",
    "        minix = Xtrain[:,batch_start:batch_end]\n",
    "        # transpoce the miniy to be inline with C\n",
    "        miniy = Ytrain[:,batch_start:batch_end].T\n",
    "        a_t.append(batch_end-batch_start)\n",
    "        #forward pass\n",
    "        nn.forward(minix,miniy)\n",
    "\n",
    "        #Backward+update nn params\n",
    "        nn.backward(miniy)\n",
    "        \n",
    "        #next batch...\n",
    "        i += 1\n",
    "        \n",
    "    bias_fix = (i * batch_size - examples_num)/batch_size\n",
    "    training_loss.append(nn.loss/(i-1+bias_fix))\n",
    "    train_accuracy.append(accuracy(nn.predict(Xtrain),Ytrain.T))\n",
    "    #training_loss.append(nn.loss)\n",
    "    \n",
    "    # validation\n",
    "    \n",
    "    examples_num = Xtest.shape[1]\n",
    "    indices = np.arange(examples_num)\n",
    "    np.random.shuffle(indices)\n",
    "    Xtest = Xtest[:,indices]\n",
    "    Ytest = Ytest[:,indices]\n",
    "    j = 0\n",
    "    nn.loss = 0\n",
    "    \n",
    "    while j * batch_size < examples_num:\n",
    "        # Obtain minibatch\n",
    "        batch_start = j * batch_size\n",
    "        batch_end = min((j + 1) * batch_size, examples_num)\n",
    "        \n",
    "        minix = Xtest[:,batch_start:batch_end]\n",
    "        # transpoce the miniy to be inline with C\n",
    "        miniy = Ytest[:,batch_start:batch_end].T\n",
    "        a_t.append(batch_end-batch_start)\n",
    "        #forward pass\n",
    "        nn.forward(minix,miniy, training=False )\n",
    "        \n",
    "        #next batch...\n",
    "        j += 1\n",
    "    #val_loss.append(nn.loss)\n",
    "    bias_fix = (j * batch_size - examples_num)/batch_size\n",
    "    val_loss.append(nn.loss/(j-1+bias_fix))\n",
    "    val_accuracy.append(accuracy(nn.predict(Xtest),Ytest.T))\n",
    "    \n",
    "    \n",
    "#    nn.loss = 0\n",
    " #   nn.forward(Xtest,Ytest.T)\n",
    "  #  val_loss.append(nn.loss)"
   ]
  },
  {
   "cell_type": "code",
   "execution_count": 12,
   "id": "790bc7a3",
   "metadata": {},
   "outputs": [
    {
     "data": {
      "image/png": "[encoded data removed]",
      "text/plain": [
       "<Figure size 432x288 with 1 Axes>"
      ]
     },
     "metadata": {
      "needs_background": "light"
     },
     "output_type": "display_data"
    }
   ],
   "source": [
    "plt.plot(training_loss)\n",
    "plt.plot(val_loss)\n",
    "plt.legend([\"train\", \"val\"])\n",
    "plt.show()"
   ]
  },
  {
   "cell_type": "code",
   "execution_count": 13,
   "id": "69d9146f",
   "metadata": {},
   "outputs": [
    {
     "data": {
      "image/png": "[encoded data removed]",
      "text/plain": [
       "<Figure size 432x288 with 1 Axes>"
      ]
     },
     "metadata": {
      "needs_background": "light"
     },
     "output_type": "display_data"
    }
   ],
   "source": [
    "plt.plot(train_accuracy)\n",
    "plt.plot(val_accuracy)\n",
    "plt.legend([\"train\", \"val\"])\n",
    "plt.show()"
   ]
  },
  {
   "cell_type": "code",
   "execution_count": 14,
   "id": "4a3dc5fa",
   "metadata": {},
   "outputs": [
    {
     "data": {
      "text/plain": [
       "0.94304"
      ]
     },
     "execution_count": 14,
     "metadata": {},
     "output_type": "execute_result"
    }
   ],
   "source": [
    "val_accuracy[-1]"
   ]
  },
  {
   "cell_type": "code",
   "execution_count": 15,
   "id": "5cec69c1",
   "metadata": {},
   "outputs": [
    {
     "data": {
      "text/plain": [
       "0.94448"
      ]
     },
     "execution_count": 15,
     "metadata": {},
     "output_type": "execute_result"
    }
   ],
   "source": [
    "train_accuracy[-1]"
   ]
  }
 ],
 "metadata": {
  "kernelspec": {
   "display_name": "Python 3 (ipykernel)",
   "language": "python",
   "name": "python3"
  },
  "language_info": {
   "codemirror_mode": {
    "name": "ipython",
    "version": 3
   },
   "file_extension": ".py",
   "mimetype": "text/x-python",
   "name": "python",
   "nbconvert_exporter": "python",
   "pygments_lexer": "ipython3",
   "version": "3.9.12"
  }
 },
 "nbformat": 4,
 "nbformat_minor": 5
}
